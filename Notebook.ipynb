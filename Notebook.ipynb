{
 "cells": [
  {
   "cell_type": "code",
   "execution_count": 8,
   "metadata": {
    "editable": true
   },
   "outputs": [],
   "source": [
    "import configparser\n",
    "from datetime import datetime\n",
    "import os\n",
    "import pyspark\n",
    "import pyspark.sql.functions as F\n",
    "from pyspark.sql import SparkSession\n",
    "from pyspark.sql.functions import udf, col\n",
    "from pyspark.sql.functions import year, month, dayofmonth, hour, weekofyear, date_format"
   ]
  },
  {
   "cell_type": "markdown",
   "metadata": {
    "editable": true
   },
   "source": [
    "Reading AWS IAM Credentials"
   ]
  },
  {
   "cell_type": "code",
   "execution_count": 9,
   "metadata": {
    "editable": true
   },
   "outputs": [],
   "source": [
    "config = configparser.ConfigParser()\n",
    "config.read_file(open('dl.cfg'))\n",
    "\n",
    "os.environ[\"AWS_ACCESS_KEY_ID\"]= config['AWS']['AWS_ACCESS_KEY_ID']\n",
    "os.environ[\"AWS_SECRET_ACCESS_KEY\"]= config['AWS']['AWS_SECRET_ACCESS_KEY']"
   ]
  },
  {
   "cell_type": "markdown",
   "metadata": {
    "editable": true
   },
   "source": [
    "Instantiating Spark session"
   ]
  },
  {
   "cell_type": "code",
   "execution_count": 10,
   "metadata": {
    "editable": true
   },
   "outputs": [
    {
     "data": {
      "text/html": [
       "\n",
       "            <div>\n",
       "                <p><b>SparkSession - in-memory</b></p>\n",
       "                \n",
       "        <div>\n",
       "            <p><b>SparkContext</b></p>\n",
       "\n",
       "            <p><a href=\"http://23888e8f20b4:4041\">Spark UI</a></p>\n",
       "\n",
       "            <dl>\n",
       "              <dt>Version</dt>\n",
       "                <dd><code>v2.4.3</code></dd>\n",
       "              <dt>Master</dt>\n",
       "                <dd><code>local[*]</code></dd>\n",
       "              <dt>AppName</dt>\n",
       "                <dd><code>pyspark-shell</code></dd>\n",
       "            </dl>\n",
       "        </div>\n",
       "        \n",
       "            </div>\n",
       "        "
      ],
      "text/plain": [
       "<pyspark.sql.session.SparkSession at 0x7fb4978dd320>"
      ]
     },
     "execution_count": 10,
     "metadata": {},
     "output_type": "execute_result"
    }
   ],
   "source": [
    "spark = SparkSession.builder\\\n",
    "                     .config(\"spark.jars.packages\",\"org.apache.hadoop:hadoop-aws:2.7.0\")\\\n",
    "                     .getOrCreate()\n",
    "spark"
   ]
  },
  {
   "cell_type": "code",
   "execution_count": 11,
   "metadata": {
    "editable": true
   },
   "outputs": [],
   "source": [
    "df = spark.read.json(\"s3a://udacity-dend/song_data/A/B/C/TRABCEI128F424C983.json\").drop_duplicates()"
   ]
  },
  {
   "cell_type": "code",
   "execution_count": 12,
   "metadata": {
    "editable": true
   },
   "outputs": [],
   "source": [
    "#Reading song data from S3\n",
    "\n",
    "#input_data=\"s3a://udacity-dend/\"\n",
    "#song_data = input_data + \"song_data/*/*/*/\"\n",
    "#song_df = spark.read.json(song_data)\n",
    "\n",
    "df = spark.read.json(\"data/song-data/song-data/*/*/*/*.json\")"
   ]
  },
  {
   "cell_type": "code",
   "execution_count": 13,
   "metadata": {
    "editable": true
   },
   "outputs": [],
   "source": [
    "# extract columns to create songs table\n",
    "df.createOrReplaceTempView(\"song_data_table\")"
   ]
  },
  {
   "cell_type": "code",
   "execution_count": 14,
   "metadata": {
    "editable": true
   },
   "outputs": [
    {
     "data": {
      "text/plain": [
       "71"
      ]
     },
     "execution_count": 14,
     "metadata": {},
     "output_type": "execute_result"
    }
   ],
   "source": [
    "df.count()"
   ]
  },
  {
   "cell_type": "markdown",
   "metadata": {
    "editable": true
   },
   "source": [
    "Create songs_table and write back to S3"
   ]
  },
  {
   "cell_type": "code",
   "execution_count": 15,
   "metadata": {
    "editable": true
   },
   "outputs": [],
   "source": [
    "songs_table = spark.sql(\"\"\"\n",
    "                            SELECT song_id, \n",
    "                            title,\n",
    "                            artist_id,\n",
    "                            year,\n",
    "                            duration\n",
    "                            FROM song_data_table\n",
    "                            WHERE song_id IS NOT NULL\n",
    "                        \"\"\")"
   ]
  },
  {
   "cell_type": "code",
   "execution_count": 16,
   "metadata": {
    "editable": true
   },
   "outputs": [
    {
     "name": "stdout",
     "output_type": "stream",
     "text": [
      "+------------------+--------------------+------------------+----+---------+\n",
      "|           song_id|               title|         artist_id|year| duration|\n",
      "+------------------+--------------------+------------------+----+---------+\n",
      "|SOBAYLL12A8C138AF9|Sono andati? Fing...|ARDR4AC1187FB371A1|   0|511.16363|\n",
      "|SOOLYAZ12A6701F4A6|Laws Patrolling (...|AREBBGV1187FB523D2|   0|173.66159|\n",
      "|SOBBUGU12A8C13E95D|Setting Fire to S...|ARMAC4T1187FB3FA4C|2004|207.77751|\n",
      "|SOAOIBZ12AB01815BE|I Hold Your Hand ...|ARPBNLO1187FB3D52F|2000| 43.36281|\n",
      "|SONYPOM12A8C13B2D7|I Think My Wife I...|ARDNS031187B9924F0|2005|186.48771|\n",
      "+------------------+--------------------+------------------+----+---------+\n",
      "only showing top 5 rows\n",
      "\n"
     ]
    }
   ],
   "source": [
    "# write songs table to parquet files partitioned by year and artist\n",
    "output_data=\"data/output_data/\"\n",
    "songs_table.write.mode('overwrite').partitionBy(\"year\", \"artist_id\").parquet(output_data+'songs_table/')\n",
    "songs_table.show(5)"
   ]
  },
  {
   "cell_type": "markdown",
   "metadata": {
    "editable": true
   },
   "source": [
    "Create artists_table and write it back to s3"
   ]
  },
  {
   "cell_type": "code",
   "execution_count": 17,
   "metadata": {
    "editable": true
   },
   "outputs": [],
   "source": [
    " artists_table = spark.sql(\"\"\"\n",
    "                                SELECT DISTINCT artist_id, \n",
    "                                artist_name,\n",
    "                                artist_location,\n",
    "                                artist_latitude,\n",
    "                                artist_longitude\n",
    "                                FROM song_data_table \n",
    "                                WHERE artist_id IS NOT NULL\n",
    "                            \"\"\")"
   ]
  },
  {
   "cell_type": "code",
   "execution_count": 25,
   "metadata": {
    "editable": true
   },
   "outputs": [],
   "source": [
    "# write artists table to parquet files\n",
    "output_data=\"data/output_data/\"\n",
    "artists_table.write.mode('overwrite').parquet(output_data+'artists_table/')"
   ]
  },
  {
   "cell_type": "code",
   "execution_count": 20,
   "metadata": {
    "editable": true
   },
   "outputs": [
    {
     "name": "stdout",
     "output_type": "stream",
     "text": [
      "+-----------------+---------+---------+------+-------------+--------+---------+-----+--------------------+------+--------+-----------------+---------+----------------+------+-------------+--------------------+------+\n",
      "|           artist|     auth|firstName|gender|itemInSession|lastName|   length|level|            location|method|    page|     registration|sessionId|            song|status|           ts|           userAgent|userId|\n",
      "+-----------------+---------+---------+------+-------------+--------+---------+-----+--------------------+------+--------+-----------------+---------+----------------+------+-------------+--------------------+------+\n",
      "|Infected Mushroom|Logged In|   Kaylee|     F|            6| Summers| 440.2673| free|Phoenix-Mesa-Scot...|   PUT|NextSong|1.540344794796E12|      139| Becoming Insane|   200|1541107053796|\"Mozilla/5.0 (Win...|     8|\n",
      "|        Girl Talk|Logged In|   Kaylee|     F|            8| Summers|160.15628| free|Phoenix-Mesa-Scot...|   PUT|NextSong|1.540344794796E12|      139|      Once again|   200|1541107734796|\"Mozilla/5.0 (Win...|     8|\n",
      "|             null|Logged In|   Kaylee|     F|            0| Summers|     null| free|Phoenix-Mesa-Scot...|   GET|    Home|1.540344794796E12|      139|            null|   200|1541106106796|\"Mozilla/5.0 (Win...|     8|\n",
      "|             null|Logged In|     Ryan|     M|            0|   Smith|     null| free|San Jose-Sunnyval...|   GET|    Home|1.541016707796E12|      169|            null|   200|1541109015796|\"Mozilla/5.0 (X11...|    26|\n",
      "|         Survivor|Logged In|   Jayden|     M|            0|     Fox|245.36771| free|New Orleans-Metai...|   PUT|NextSong|1.541033612796E12|      100|Eye Of The Tiger|   200|1541110994796|\"Mozilla/5.0 (Win...|   101|\n",
      "+-----------------+---------+---------+------+-------------+--------+---------+-----+--------------------+------+--------+-----------------+---------+----------------+------+-------------+--------------------+------+\n",
      "only showing top 5 rows\n",
      "\n"
     ]
    }
   ],
   "source": [
    " # get filepath to log data file\n",
    "input_data=\"data/\"\n",
    "log_data =input_data + 'log_data/*/*/2018-11-01-events.json'\n",
    "df2 = spark.read.json(log_data).drop_duplicates()\n",
    "df2.show(5)"
   ]
  },
  {
   "cell_type": "code",
   "execution_count": 21,
   "metadata": {
    "editable": true
   },
   "outputs": [
    {
     "name": "stdout",
     "output_type": "stream",
     "text": [
      "+-----------------+---------+---------+------+-------------+--------+---------+-----+--------------------+------+--------+-----------------+---------+----------------+------+-------------+--------------------+------+\n",
      "|           artist|     auth|firstName|gender|itemInSession|lastName|   length|level|            location|method|    page|     registration|sessionId|            song|status|           ts|           userAgent|userId|\n",
      "+-----------------+---------+---------+------+-------------+--------+---------+-----+--------------------+------+--------+-----------------+---------+----------------+------+-------------+--------------------+------+\n",
      "|Infected Mushroom|Logged In|   Kaylee|     F|            6| Summers| 440.2673| free|Phoenix-Mesa-Scot...|   PUT|NextSong|1.540344794796E12|      139| Becoming Insane|   200|1541107053796|\"Mozilla/5.0 (Win...|     8|\n",
      "|        Girl Talk|Logged In|   Kaylee|     F|            8| Summers|160.15628| free|Phoenix-Mesa-Scot...|   PUT|NextSong|1.540344794796E12|      139|      Once again|   200|1541107734796|\"Mozilla/5.0 (Win...|     8|\n",
      "|         Survivor|Logged In|   Jayden|     M|            0|     Fox|245.36771| free|New Orleans-Metai...|   PUT|NextSong|1.541033612796E12|      100|Eye Of The Tiger|   200|1541110994796|\"Mozilla/5.0 (Win...|   101|\n",
      "|  Black Eyed Peas|Logged In|   Sylvie|     F|            0|    Cruz|214.93506| free|Washington-Arling...|   PUT|NextSong|1.540266185796E12|        9|         Pump It|   200|1541108520796|\"Mozilla/5.0 (Mac...|    10|\n",
      "|   The Mars Volta|Logged In|   Kaylee|     F|            5| Summers|380.42077| free|Phoenix-Mesa-Scot...|   PUT|NextSong|1.540344794796E12|      139|       Eriatarka|   200|1541106673796|\"Mozilla/5.0 (Win...|     8|\n",
      "+-----------------+---------+---------+------+-------------+--------+---------+-----+--------------------+------+--------+-----------------+---------+----------------+------+-------------+--------------------+------+\n",
      "only showing top 5 rows\n",
      "\n"
     ]
    }
   ],
   "source": [
    "# filter by actions for song plays\n",
    "df2 = df2.filter(df2.page == 'NextSong')\n",
    "df2.createOrReplaceTempView(\"log_data_table\")\n",
    "df2.show(5)"
   ]
  },
  {
   "cell_type": "markdown",
   "metadata": {
    "editable": true
   },
   "source": [
    "Extract columns for users table"
   ]
  },
  {
   "cell_type": "code",
   "execution_count": 22,
   "metadata": {
    "editable": true
   },
   "outputs": [],
   "source": [
    " users_table = spark.sql(\"\"\"\n",
    "                            SELECT DISTINCT userId as user_id, \n",
    "                            firstName as first_name,\n",
    "                            lastName as last_name,\n",
    "                            gender as gender,\n",
    "                            level as level\n",
    "                            FROM log_data_table \n",
    "                            WHERE userId IS NOT NULL\n",
    "                        \"\"\")"
   ]
  },
  {
   "cell_type": "code",
   "execution_count": 33,
   "metadata": {
    "editable": true
   },
   "outputs": [
    {
     "name": "stdout",
     "output_type": "stream",
     "text": [
      "+-------+----------+---------+------+-----+\n",
      "|user_id|first_name|last_name|gender|level|\n",
      "+-------+----------+---------+------+-----+\n",
      "|     98|    Jordyn|   Powell|     F| free|\n",
      "|     34|    Evelin|    Ayala|     F| free|\n",
      "|     85|   Kinsley|    Young|     F| paid|\n",
      "|     38|    Gianna|    Jones|     F| free|\n",
      "|     85|   Kinsley|    Young|     F| free|\n",
      "+-------+----------+---------+------+-----+\n",
      "only showing top 5 rows\n",
      "\n"
     ]
    }
   ],
   "source": [
    "# write users table to parquet files\n",
    "output_data=\"data/output_data/\"\n",
    "users_table.write.mode('overwrite').parquet(output_data+'users_table/')\n",
    "users_table.show(5)"
   ]
  },
  {
   "cell_type": "markdown",
   "metadata": {
    "editable": true
   },
   "source": [
    "Create timestamp and datetime column from original timestamp column"
   ]
  },
  {
   "cell_type": "code",
   "execution_count": 23,
   "metadata": {
    "editable": true
   },
   "outputs": [],
   "source": [
    "from pyspark.sql.types import *\n",
    "# create timestamp column from original timestamp column\n",
    "get_timestamp = udf(lambda x: datetime.utcfromtimestamp(int(x) / 1000), TimestampType())\n",
    "\n"
   ]
  },
  {
   "cell_type": "code",
   "execution_count": 24,
   "metadata": {
    "editable": true
   },
   "outputs": [],
   "source": [
    "# create datetime column from original timestamp column\n",
    "get_datetime = udf(lambda x: F.to_date(x), TimestampType())   "
   ]
  },
  {
   "cell_type": "code",
   "execution_count": 25,
   "metadata": {
    "editable": true
   },
   "outputs": [],
   "source": [
    "df2 = df2.withColumn(\"timestamp\", get_timestamp(df2.ts))\n",
    "df2 = df2.withColumn(\"start_time\", get_timestamp(df2.ts))"
   ]
  },
  {
   "cell_type": "code",
   "execution_count": 26,
   "metadata": {
    "editable": true
   },
   "outputs": [
    {
     "name": "stdout",
     "output_type": "stream",
     "text": [
      "+--------------------+\n",
      "|          start_time|\n",
      "+--------------------+\n",
      "|2018-11-01 21:17:...|\n",
      "|2018-11-01 21:28:...|\n",
      "|2018-11-01 22:23:...|\n",
      "|2018-11-01 21:42:...|\n",
      "|2018-11-01 21:11:...|\n",
      "|2018-11-01 21:01:...|\n",
      "|2018-11-01 21:08:...|\n",
      "|2018-11-01 21:55:...|\n",
      "|2018-11-01 21:24:...|\n",
      "|2018-11-01 21:52:...|\n",
      "|2018-11-01 21:05:...|\n",
      "+--------------------+\n",
      "\n"
     ]
    }
   ],
   "source": [
    "df2.select(\"start_time\").show(20)"
   ]
  },
  {
   "cell_type": "markdown",
   "metadata": {
    "editable": true
   },
   "source": [
    "Extract columns to create time table"
   ]
  },
  {
   "cell_type": "code",
   "execution_count": 27,
   "metadata": {
    "editable": true
   },
   "outputs": [
    {
     "name": "stdout",
     "output_type": "stream",
     "text": [
      "+-----------------+---------+---------+------+-------------+--------+---------+-----+--------------------+------+--------+-----------------+---------+----------------+------+-------------+--------------------+------+--------------------+--------------------+\n",
      "|           artist|     auth|firstName|gender|itemInSession|lastName|   length|level|            location|method|    page|     registration|sessionId|            song|status|           ts|           userAgent|userId|           timestamp|          start_time|\n",
      "+-----------------+---------+---------+------+-------------+--------+---------+-----+--------------------+------+--------+-----------------+---------+----------------+------+-------------+--------------------+------+--------------------+--------------------+\n",
      "|Infected Mushroom|Logged In|   Kaylee|     F|            6| Summers| 440.2673| free|Phoenix-Mesa-Scot...|   PUT|NextSong|1.540344794796E12|      139| Becoming Insane|   200|1541107053796|\"Mozilla/5.0 (Win...|     8|2018-11-01 21:17:...|2018-11-01 21:17:...|\n",
      "|        Girl Talk|Logged In|   Kaylee|     F|            8| Summers|160.15628| free|Phoenix-Mesa-Scot...|   PUT|NextSong|1.540344794796E12|      139|      Once again|   200|1541107734796|\"Mozilla/5.0 (Win...|     8|2018-11-01 21:28:...|2018-11-01 21:28:...|\n",
      "|         Survivor|Logged In|   Jayden|     M|            0|     Fox|245.36771| free|New Orleans-Metai...|   PUT|NextSong|1.541033612796E12|      100|Eye Of The Tiger|   200|1541110994796|\"Mozilla/5.0 (Win...|   101|2018-11-01 22:23:...|2018-11-01 22:23:...|\n",
      "|  Black Eyed Peas|Logged In|   Sylvie|     F|            0|    Cruz|214.93506| free|Washington-Arling...|   PUT|NextSong|1.540266185796E12|        9|         Pump It|   200|1541108520796|\"Mozilla/5.0 (Mac...|    10|2018-11-01 21:42:...|2018-11-01 21:42:...|\n",
      "|   The Mars Volta|Logged In|   Kaylee|     F|            5| Summers|380.42077| free|Phoenix-Mesa-Scot...|   PUT|NextSong|1.540344794796E12|      139|       Eriatarka|   200|1541106673796|\"Mozilla/5.0 (Win...|     8|2018-11-01 21:11:...|2018-11-01 21:11:...|\n",
      "+-----------------+---------+---------+------+-------------+--------+---------+-----+--------------------+------+--------+-----------------+---------+----------------+------+-------------+--------------------+------+--------------------+--------------------+\n",
      "only showing top 5 rows\n",
      "\n"
     ]
    }
   ],
   "source": [
    "df2.createOrReplaceTempView(\"log_data_table_time\")\n",
    "df2.show(5)"
   ]
  },
  {
   "cell_type": "code",
   "execution_count": 36,
   "metadata": {
    "editable": true
   },
   "outputs": [],
   "source": [
    "# extract columns to create time table\n",
    "time_table = spark.sql(\"\"\"\n",
    "                        SELECT DISTINCT\n",
    "                        start_time,                        \n",
    "                        hour(start_time) as hour,\n",
    "                        dayofmonth(start_time) as day,\n",
    "                        weekofyear(start_time) as week,\n",
    "                        month(start_time) as month,\n",
    "                        year(start_time) as year,\n",
    "                        dayofweek(start_time) as weekday\n",
    "                        FROM\n",
    "                        log_data_table_time\n",
    "                         WHERE ts IS NOT NULL\n",
    "                        \"\"\")"
   ]
  },
  {
   "cell_type": "code",
   "execution_count": 37,
   "metadata": {
    "editable": true
   },
   "outputs": [
    {
     "name": "stdout",
     "output_type": "stream",
     "text": [
      "+--------------------+----+---+----+-----+----+-------+\n",
      "|          start_time|hour|day|week|month|year|weekday|\n",
      "+--------------------+----+---+----+-----+----+-------+\n",
      "|2018-11-01 21:01:...|  21|  1|  44|   11|2018|      5|\n",
      "|2018-11-01 21:11:...|  21|  1|  44|   11|2018|      5|\n",
      "|2018-11-01 21:55:...|  21|  1|  44|   11|2018|      5|\n",
      "|2018-11-01 22:23:...|  22|  1|  44|   11|2018|      5|\n",
      "|2018-11-01 21:05:...|  21|  1|  44|   11|2018|      5|\n",
      "+--------------------+----+---+----+-----+----+-------+\n",
      "only showing top 5 rows\n",
      "\n"
     ]
    }
   ],
   "source": [
    "time_table.show(5)"
   ]
  },
  {
   "cell_type": "code",
   "execution_count": 87,
   "metadata": {
    "editable": true
   },
   "outputs": [],
   "source": [
    "# write time table to parquet files partitioned by year and month\n",
    "output_data=\"data/output_data/\"\n",
    "time_table.write.mode('overwrite').partitionBy(\"year\", \"month\").parquet(output_data+'time_table/')"
   ]
  },
  {
   "cell_type": "code",
   "execution_count": 32,
   "metadata": {
    "editable": true
   },
   "outputs": [],
   "source": [
    " songplays_table = spark.sql(\"\"\"\n",
    "                                SELECT \n",
    "                                monotonically_increasing_id() as songplay_id,\n",
    "                                logTb.start_time,\n",
    "                                month(start_time) as month,\n",
    "                                year(start_time) as year,\n",
    "                                logTb.userId as user_id,\n",
    "                                logTb.level as level,\n",
    "                                songTb.song_id as song_id,\n",
    "                                songTb.artist_id as artist_id,\n",
    "                                logTb.sessionId as session_id,\n",
    "                                logTb.location as location,\n",
    "                                logTb.userAgent as user_agent\n",
    "                                FROM log_data_table_time logTb\n",
    "                                JOIN song_data_table songTb on logTb.artist = songTb.artist_name and logTb.song = songTb.title\n",
    "                            \"\"\").drop_duplicates()"
   ]
  },
  {
   "cell_type": "code",
   "execution_count": 33,
   "metadata": {
    "editable": true
   },
   "outputs": [
    {
     "name": "stdout",
     "output_type": "stream",
     "text": [
      "+-----------+----------+-----+----+-------+-----+-------+---------+----------+--------+----------+\n",
      "|songplay_id|start_time|month|year|user_id|level|song_id|artist_id|session_id|location|user_agent|\n",
      "+-----------+----------+-----+----+-------+-----+-------+---------+----------+--------+----------+\n",
      "+-----------+----------+-----+----+-------+-----+-------+---------+----------+--------+----------+\n",
      "\n"
     ]
    }
   ],
   "source": [
    "songplays_table.show(5)"
   ]
  },
  {
   "cell_type": "code",
   "execution_count": 95,
   "metadata": {
    "editable": true
   },
   "outputs": [],
   "source": [
    "# write songplays table to parquet files partitioned by year and month\n",
    "output_data=\"data/output_data/\"\n",
    "songplays_table.write.mode('overwrite').partitionBy(\"year\", \"month\").parquet(output_data+'songplays_table/')"
   ]
  },
  {
   "cell_type": "code",
   "execution_count": null,
   "metadata": {
    "editable": true
   },
   "outputs": [],
   "source": []
  }
 ],
 "metadata": {
  "kernelspec": {
   "display_name": "Python 3",
   "language": "python",
   "name": "python3"
  },
  "language_info": {
   "codemirror_mode": {
    "name": "ipython",
    "version": 3
   },
   "file_extension": ".py",
   "mimetype": "text/x-python",
   "name": "python",
   "nbconvert_exporter": "python",
   "pygments_lexer": "ipython3",
   "version": "3.6.3"
  }
 },
 "nbformat": 4,
 "nbformat_minor": 4
}
